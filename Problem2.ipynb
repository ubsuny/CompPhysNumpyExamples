{
 "cells": [
  {
   "cell_type": "markdown",
   "metadata": {},
   "source": [
    "# Problem2 : Projectile motion"
   ]
  },
  {
   "cell_type": "markdown",
   "metadata": {},
   "source": [
    "You will create your first simulation! (Try to restrain the joy). \n",
    "\n",
    "\n",
    "The equation for a projectile is\n",
    "\n",
    "$\\vec{x}(t) = \\frac{1}{2}\\vec{a}_0t^2 + \\vec{v}_0 t + \\vec{x}_0$\n",
    "\n",
    "\n",
    "Simulate this situation in `numpy`. Assume the motion is in 2 dimensions (because it is), with $x$ being the horizontal and $y$ being the vertical directions. \n",
    "\n",
    "- The time variable $t$ should vary from $0\\ldots 0.5$ seconds, with a time step of $0.001$ s. \n",
    "- The initial position is $\\vec{x}_0 = (0,1)$. \n",
    "- The initial velocity is $\\vec{v}_0 = (10,0)$.\n",
    "- Gravity is $\\vec{a}_0 = (0,g)$. \n",
    "\n",
    "\n",
    "\n",
    "**Part a.** Compute the values for Earth and Mars, and plot the $x$ and $y$ trajectories in `matplotlib`. Label your axes! To get full credit, you must implement this without `for` loops in `python`. If you cannot manage without loops, that's good for partial credit (losing 5 points).\n",
    "\n",
    "**Part b.** Using array programming (i.e. NOT calulating the trivial solution of the quadratic equation analytically), numerically find the nearest value of $t$ and $x$ where the projectile crosses the $x$ axis.\n"
   ]
  },
  {
   "cell_type": "code",
   "execution_count": 1,
   "metadata": {},
   "outputs": [],
   "source": [
    "import numpy as np\n",
    "import matplotlib.pyplot as plt"
   ]
  },
  {
   "cell_type": "code",
   "execution_count": 2,
   "metadata": {},
   "outputs": [],
   "source": [
    "t = np.arange(0,0.5,0.001)"
   ]
  },
  {
   "cell_type": "code",
   "execution_count": 3,
   "metadata": {},
   "outputs": [],
   "source": [
    "g_e = 0\n",
    "g_m = 0\n",
    "x0 = np.array([0,1]).reshape((2,1))\n",
    "v0 = np.array([10,0]).reshape((2,1))\n",
    "a0 = np.array([0,g_e]).reshape((2,1))"
   ]
  },
  {
   "cell_type": "markdown",
   "metadata": {},
   "source": [
    "#### Remember! These are your shapes, and think about broadcasting: \n"
   ]
  },
  {
   "cell_type": "code",
   "execution_count": 4,
   "metadata": {},
   "outputs": [
    {
     "name": "stdout",
     "output_type": "stream",
     "text": [
      "x0 :  (2, 1)  v0 :  (2, 1)  a0  (2, 1) , t  (500,)\n"
     ]
    }
   ],
   "source": [
    "print(\"x0 : \", x0.shape, \" v0 : \", v0.shape, \" a0 \", a0.shape, \", t \", t.shape)"
   ]
  },
  {
   "cell_type": "markdown",
   "metadata": {},
   "source": [
    "### Computation\n",
    "\n",
    "Let's define `t1` and `x1` as the time and x coordinate where the projectile crosses the $y$-axis. "
   ]
  },
  {
   "cell_type": "code",
   "execution_count": 5,
   "metadata": {},
   "outputs": [],
   "source": [
    "t1 = 0. ## Time where projectile crosses axis. You compute this. \n",
    "x1 = 0. ## x position where projectile crosses axis. You compute this. "
   ]
  },
  {
   "cell_type": "markdown",
   "metadata": {},
   "source": [
    "### Your code goes here. \n",
    "Without using loops, this will take you ~5 lines of code. "
   ]
  },
  {
   "cell_type": "code",
   "execution_count": null,
   "metadata": {},
   "outputs": [],
   "source": []
  },
  {
   "cell_type": "markdown",
   "metadata": {},
   "source": [
    "#### Part a answer (plot):"
   ]
  },
  {
   "cell_type": "code",
   "execution_count": null,
   "metadata": {
    "scrolled": true
   },
   "outputs": [],
   "source": []
  },
  {
   "cell_type": "markdown",
   "metadata": {},
   "source": [
    "#### Part b answer \n",
    "(prints the values `t1` and `x1` from above)"
   ]
  },
  {
   "cell_type": "code",
   "execution_count": null,
   "metadata": {},
   "outputs": [],
   "source": [
    "print ( 'crosses y axis : t = ', t1, 's, x = ', x1, 'meters' )"
   ]
  },
  {
   "cell_type": "code",
   "execution_count": null,
   "metadata": {},
   "outputs": [],
   "source": []
  }
 ],
 "metadata": {
  "kernelspec": {
   "display_name": "Python 3",
   "language": "python",
   "name": "python3"
  },
  "language_info": {
   "codemirror_mode": {
    "name": "ipython",
    "version": 3
   },
   "file_extension": ".py",
   "mimetype": "text/x-python",
   "name": "python",
   "nbconvert_exporter": "python",
   "pygments_lexer": "ipython3",
   "version": "3.8.6"
  }
 },
 "nbformat": 4,
 "nbformat_minor": 4
}
