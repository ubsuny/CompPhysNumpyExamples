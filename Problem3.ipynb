{
 "cells": [
  {
   "cell_type": "markdown",
   "metadata": {},
   "source": [
    "# Using SWIG with the Point class\n",
    "\n",
    "Important! The `CompPhys` git directory must be parallel to this one. So it will look something like this: \n",
    "\n",
    "```\n",
    "current directory (/results)\n",
    "   |\n",
    "   |-- /results/CompPhys\n",
    "   |\n",
    "   |-- /results/technical-assignment-5-laserlab\n",
    "```\n",
    "\n",
    "We will reuse code from `CompPhys`."
   ]
  },
  {
   "cell_type": "markdown",
   "metadata": {},
   "source": [
    "## The Point class\n",
    "\n",
    "Here, we reuse the Point class that we created in CompPhys. If you want to remind yourself, uncomment the following two commands"
   ]
  },
  {
   "cell_type": "code",
   "execution_count": 1,
   "metadata": {},
   "outputs": [
    {
     "name": "stdout",
     "output_type": "stream",
     "text": [
      "#ifndef Point3d_h\n",
      "#define Point3d_h\n",
      "\n",
      "#include <iostream>\n",
      "#include <fstream>\n",
      "#include \"Point.h\"\n",
      "\n",
      "class Point3d : public Point {\n",
      " public:\n",
      "  Point3d( double ix=0., double iy=0., double iz=0.);\n",
      "  virtual ~Point3d();\n",
      "\n",
      "  // Must be declared as a virtual override\n",
      "  virtual void print(std::ostream & out=std::cout) const override;\n",
      "\n",
      "  // x() and y() accessors are available through the base class Point\n",
      "  double z() const;\n",
      "\n",
      "  // Need to override all of these:\n",
      "  Point3d operator+( Point3d const & right ) const ;\n",
      "  Point3d operator-( Point3d const & right ) const ;\n",
      "  Point3d & operator+=( Point3d const & right ) ;\n",
      "  Point3d & operator-=( Point3d const & right ) ;\n",
      "\n",
      "  // Must be declared as a virtual override\n",
      "  virtual bool input( std::istream & in) override;\n",
      "\n",
      " private: \n",
      "  double z_;\n",
      "\n",
      "  // Doubles x_ and y_ are in the base class!\n",
      "\n",
      "};\n",
      "\n",
      "#endif\n"
     ]
    }
   ],
   "source": [
    "! cat ../CompPhys/ReviewCpp/InheritanceExample/Point3d.h"
   ]
  },
  {
   "cell_type": "code",
   "execution_count": 2,
   "metadata": {},
   "outputs": [
    {
     "name": "stdout",
     "output_type": "stream",
     "text": [
      "#include \"Point.h\"\n",
      "\n",
      "\n",
      "Point::Point( double ix, double iy) { \n",
      "  x_=ix;y_=iy;\n",
      "}\n",
      "\n",
      "Point::~Point(){}\n",
      "\n",
      "void Point::print() const {\n",
      "  std::cout << \"(\" << x_ << \",\" << y_ << \")\" << std::endl;\n",
      "};\n",
      "\n",
      "double Point::x() const { return x_;}\n",
      "double Point::y() const { return y_;}\n",
      "\n",
      "Point Point::operator+( Point const & right ) const {\n",
      "  Point retval( x_ + right.x_, y_ + right.y_ );\n",
      "  return retval;\n",
      "}\n",
      "\n",
      "Point Point::operator-( Point const & right ) const {\n",
      "  Point retval( x_ - right.x_, y_ - right.y_ );\n",
      "  return retval;\n",
      "}\n",
      "\n",
      "Point & Point::operator+=( Point const & right )  {\n",
      "  x_ += right.x_; y_ += right.y_ ;\n",
      "  return *this;\n",
      "}\n",
      "\n",
      "Point & Point::operator-=( Point const & right )  {\n",
      "  x_ -= right.x_; y_ -= right.y_ ;\n",
      "  return *this;\n",
      "}\n",
      "\n",
      "bool Point::input( std::istream & in ) {\n",
      "\n",
      "  std::string line;   \n",
      "  std::getline( in, line, ',');   \n",
      "  x_ = std::atof( line.c_str() ); \n",
      "  std::getline( in, line );   \n",
      "  y_ = std::atof( line.c_str() );       \n",
      "  if ( line == \"\") {      \n",
      "    return false;  \n",
      "  } \n",
      "  else {\n",
      "    return true; \n",
      "  }\n",
      "}\n"
     ]
    }
   ],
   "source": [
    "! cat ../CompPhys/ReviewCpp/ClassExample/Point.cc"
   ]
  },
  {
   "cell_type": "markdown",
   "metadata": {},
   "source": [
    "## The swig files\n",
    "\n",
    "Here, we're going to just include the `\"Point.h\"` file from above with the right syntax. Then we have a `\"setup.py\"` file to describe how to compile it. "
   ]
  },
  {
   "cell_type": "code",
   "execution_count": 3,
   "metadata": {},
   "outputs": [
    {
     "name": "stdout",
     "output_type": "stream",
     "text": [
      "%module point\n",
      "/* First: Include your own code.*/\n",
      "%{\n",
      "#include \"CompPhys/ReviewCpp/ClassExample/Point.h\"\n",
      "%}\n",
      "/* Next: get the class information*/\n",
      "\n",
      "%include \"CompPhys/ReviewCpp/ClassExample/Point.h\"\n"
     ]
    }
   ],
   "source": [
    "cat swig_point/point.i"
   ]
  },
  {
   "cell_type": "code",
   "execution_count": 4,
   "metadata": {},
   "outputs": [
    {
     "name": "stdout",
     "output_type": "stream",
     "text": [
      "#!/usr/bin/env python\n",
      "\n",
      "\"\"\"\n",
      "setup.py file for SWIG example\n",
      "\"\"\"\n",
      "\n",
      "from distutils.core import setup, Extension\n",
      "\n",
      "\n",
      "point_module = Extension('_point',\n",
      "                           sources=['../CompPhys/ReviewCpp/ClassExample/Point.cc', 'swig_point/point_wrap.cxx' ],\n",
      "                           extra_compile_args=[\"-std=c++11\", \"-I../\"],\n",
      "                           )\n",
      "\n",
      "setup (name = 'point',\n",
      "       version = '0.1',\n",
      "       author      = \"SWIG Docs\",\n",
      "       description = \"\"\"Simple swig point from docs\"\"\",\n",
      "       ext_modules = [point_module],\n",
      "       py_modules = [\"point\"],\n",
      "       )\n"
     ]
    }
   ],
   "source": [
    "cat swig_point/setup.py"
   ]
  },
  {
   "cell_type": "markdown",
   "metadata": {},
   "source": [
    "## Create the interface with SWIG\n",
    "\n",
    "Note! We have a function called `\"print\"`, which is a keyword, so we cannot use that. It will be renamed to `\"_print\"` with an underscore in the front. "
   ]
  },
  {
   "cell_type": "code",
   "execution_count": 5,
   "metadata": {},
   "outputs": [
    {
     "name": "stdout",
     "output_type": "stream",
     "text": [
      "../CompPhys/ReviewCpp/ClassExample/Point.h:11: Warning 314: 'print' is a python keyword, renaming to '_print'\n"
     ]
    }
   ],
   "source": [
    "! swig -c++ -python -I../ swig_point/point.i"
   ]
  },
  {
   "cell_type": "markdown",
   "metadata": {},
   "source": [
    "## Here's the compilation of the files"
   ]
  },
  {
   "cell_type": "code",
   "execution_count": 6,
   "metadata": {},
   "outputs": [
    {
     "name": "stdout",
     "output_type": "stream",
     "text": [
      "running build_ext\n",
      "building '_point' extension\n",
      "creating build\n",
      "creating build/CompPhys\n",
      "creating build/CompPhys/ReviewCpp\n",
      "creating build/CompPhys/ReviewCpp/ClassExample\n",
      "creating build/temp.linux-armv7l-3.8\n",
      "creating build/temp.linux-armv7l-3.8/swig_point\n",
      "arm-linux-gnueabihf-gcc -pthread -Wno-unused-result -Wsign-compare -DNDEBUG -g -fwrapv -O2 -Wall -g -fstack-protector-strong -Wformat -Werror=format-security -g -fwrapv -O2 -g -fstack-protector-strong -Wformat -Werror=format-security -Wdate-time -D_FORTIFY_SOURCE=2 -fPIC -I/usr/include/python3.8 -c ../CompPhys/ReviewCpp/ClassExample/Point.cc -o build/temp.linux-armv7l-3.8/../CompPhys/ReviewCpp/ClassExample/Point.o -std=c++11 -I../\n",
      "arm-linux-gnueabihf-gcc -pthread -Wno-unused-result -Wsign-compare -DNDEBUG -g -fwrapv -O2 -Wall -g -fstack-protector-strong -Wformat -Werror=format-security -g -fwrapv -O2 -g -fstack-protector-strong -Wformat -Werror=format-security -Wdate-time -D_FORTIFY_SOURCE=2 -fPIC -I/usr/include/python3.8 -c swig_point/point_wrap.cxx -o build/temp.linux-armv7l-3.8/swig_point/point_wrap.o -std=c++11 -I../\n",
      "arm-linux-gnueabihf-g++ -pthread -shared -Wl,-O1 -Wl,-Bsymbolic-functions -Wl,-Bsymbolic-functions -Wl,-z,relro -g -fwrapv -O2 -Wl,-Bsymbolic-functions -Wl,-z,relro -g -fwrapv -O2 -g -fstack-protector-strong -Wformat -Werror=format-security -Wdate-time -D_FORTIFY_SOURCE=2 build/temp.linux-armv7l-3.8/../CompPhys/ReviewCpp/ClassExample/Point.o build/temp.linux-armv7l-3.8/swig_point/point_wrap.o -o /results/CompPhysNumpyExamples/_point.cpython-38-arm-linux-gnueabihf.so\n"
     ]
    }
   ],
   "source": [
    "! python swig_point/setup.py build_ext --inplace"
   ]
  },
  {
   "cell_type": "markdown",
   "metadata": {},
   "source": [
    "## Next setup the path\n",
    "\n",
    "We need to tell python where to find the libraries we just compiled. "
   ]
  },
  {
   "cell_type": "code",
   "execution_count": 7,
   "metadata": {},
   "outputs": [
    {
     "name": "stdout",
     "output_type": "stream",
     "text": [
      "['/results/CompPhysNumpyExamples', '/app/compphys_python', '/usr/lib/python38.zip', '/usr/lib/python3.8', '/usr/lib/python3.8/lib-dynload', '', '/usr/local/lib/python3.8/dist-packages', '/usr/lib/python3/dist-packages', '/usr/lib/python3.8/dist-packages', '/usr/local/lib/python3.8/dist-packages/IPython/extensions', '/results/.ipython', '/results/CompPhysNumpyExamples/swig_point']\n"
     ]
    }
   ],
   "source": [
    "import sys\n",
    "import os\n",
    "\n",
    "sys.path.append( os.path.abspath(\"swig_point\") )\n",
    "\n",
    "print (sys.path)\n",
    "\n",
    "\n"
   ]
  },
  {
   "cell_type": "markdown",
   "metadata": {},
   "source": [
    "## Ready!\n",
    "\n",
    "We have the `Point` class (uppercase \"P\") in module \"point\" (lowercase \"p\"). \n"
   ]
  },
  {
   "cell_type": "code",
   "execution_count": 8,
   "metadata": {},
   "outputs": [],
   "source": [
    "from point import Point"
   ]
  },
  {
   "cell_type": "markdown",
   "metadata": {},
   "source": [
    "## Get help\n",
    "\n",
    "You can see what was generated by asking for help! "
   ]
  },
  {
   "cell_type": "code",
   "execution_count": 9,
   "metadata": {},
   "outputs": [
    {
     "name": "stdout",
     "output_type": "stream",
     "text": [
      "Help on module point:\n",
      "\n",
      "NAME\n",
      "    point\n",
      "\n",
      "DESCRIPTION\n",
      "    # This file was automatically generated by SWIG (http://www.swig.org).\n",
      "    # Version 4.0.1\n",
      "    #\n",
      "    # Do not make changes to this file unless you know what you are doing--modify\n",
      "    # the SWIG interface file instead.\n",
      "\n",
      "CLASSES\n",
      "    builtins.object\n",
      "        Point\n",
      "    \n",
      "    class Point(builtins.object)\n",
      "     |  Point(ix=0.0, iy=0.0)\n",
      "     |  \n",
      "     |  Methods defined here:\n",
      "     |  \n",
      "     |  __add__(self, right)\n",
      "     |  \n",
      "     |  __iadd__(self, right)\n",
      "     |  \n",
      "     |  __init__(self, ix=0.0, iy=0.0)\n",
      "     |      Initialize self.  See help(type(self)) for accurate signature.\n",
      "     |  \n",
      "     |  __isub__(self, right)\n",
      "     |  \n",
      "     |  __repr__ = _swig_repr(self)\n",
      "     |  \n",
      "     |  __sub__(self, right)\n",
      "     |  \n",
      "     |  input(self, _in)\n",
      "     |  \n",
      "     |  x(self)\n",
      "     |  \n",
      "     |  y(self)\n",
      "     |  \n",
      "     |  ----------------------------------------------------------------------\n",
      "     |  Static methods defined here:\n",
      "     |  \n",
      "     |  __swig_destroy__ = delete_Point(...)\n",
      "     |  \n",
      "     |  ----------------------------------------------------------------------\n",
      "     |  Data descriptors defined here:\n",
      "     |  \n",
      "     |  __dict__\n",
      "     |      dictionary for instance variables (if defined)\n",
      "     |  \n",
      "     |  __weakref__\n",
      "     |      list of weak references to the object (if defined)\n",
      "     |  \n",
      "     |  thisown\n",
      "     |      The membership flag\n",
      "\n",
      "FILE\n",
      "    /results/CompPhysNumpyExamples/swig_point/point.py\n",
      "\n",
      "\n"
     ]
    }
   ],
   "source": [
    "help(\"point\")"
   ]
  },
  {
   "cell_type": "markdown",
   "metadata": {},
   "source": [
    "## Do some math\n",
    "\n",
    "Here we can use our `operator+` class within python! Woohoo!"
   ]
  },
  {
   "cell_type": "code",
   "execution_count": 10,
   "metadata": {},
   "outputs": [],
   "source": [
    "p1 = Point(1,2)\n",
    "p2 = Point(2,3)\n",
    "p3 = p1 + p2"
   ]
  },
  {
   "cell_type": "code",
   "execution_count": 11,
   "metadata": {},
   "outputs": [
    {
     "name": "stdout",
     "output_type": "stream",
     "text": [
      "3.0\n"
     ]
    }
   ],
   "source": [
    "print(p3.x())"
   ]
  },
  {
   "cell_type": "markdown",
   "metadata": {},
   "source": [
    "# Problem 3: SWIG for Point3d\n"
   ]
  },
  {
   "cell_type": "markdown",
   "metadata": {},
   "source": [
    "## Problem 3a\n",
    "a. You will now repeat the steps above for the `Point3d` class in an interface called `point3d`. You are free to use the `Point3d` class with the inheritance as defined in the `CompPhys/ReviewCpp/InheritanceExample` folder, or write a simpler one. \n",
    "\n",
    "- Create `swig_point/point3d.i`\n",
    "- Create `swig_point/setup3d.py`\n",
    "- Create the interface with the `swig` command. \n",
    "- Compile with `setup3d.py` similarly to above.\n",
    "- Import `point3d`, create two 3-d points `v1` and `v2`, set them to `(1,2,3)` and `(4,5,6)`. Set a third point (`v3`) equal to their sum. \n",
    "\n"
   ]
  },
  {
   "cell_type": "code",
   "execution_count": null,
   "metadata": {},
   "outputs": [],
   "source": [
    "### YOUR CODE GOES HERE. "
   ]
  },
  {
   "cell_type": "markdown",
   "metadata": {},
   "source": [
    "## Problem 3b"
   ]
  },
  {
   "cell_type": "markdown",
   "metadata": {},
   "source": [
    "\n",
    "b. Write another file called `pointops` that will implement operations on `Point3d`. Define a function to compute the cross product of the two vectors with the following C++ interface:\n",
    "\n",
    "```\n",
    "Point3d cross( Point3d const & a, Point3d const & b);\n",
    "```\n",
    "- Create `swig_point/cross.i`\n",
    "- Create `swig_point/setup_cross.py`\n",
    "- Create the interface with the `swig` command. \n",
    "- Compile with `cross.py` similarly to above.\n",
    "- Then take the cross product of 3-d points `v1` and `v2` above. "
   ]
  },
  {
   "cell_type": "code",
   "execution_count": null,
   "metadata": {},
   "outputs": [],
   "source": [
    "### YOUR CODE GOES HERE. "
   ]
  }
 ],
 "metadata": {
  "kernelspec": {
   "display_name": "Python 3",
   "language": "python",
   "name": "python3"
  },
  "language_info": {
   "codemirror_mode": {
    "name": "ipython",
    "version": 3
   },
   "file_extension": ".py",
   "mimetype": "text/x-python",
   "name": "python",
   "nbconvert_exporter": "python",
   "pygments_lexer": "ipython3",
   "version": "3.8.6"
  }
 },
 "nbformat": 4,
 "nbformat_minor": 4
}
